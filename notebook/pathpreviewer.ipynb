{
 "cells": [
  {
   "cell_type": "code",
   "execution_count": 215,
   "metadata": {},
   "outputs": [],
   "source": [
    "import sys\n",
    "import numpy as np\n",
    "import matplotlib.pyplot as plt\n",
    "np.set_printoptions(threshold=sys.maxsize)"
   ]
  },
  {
   "cell_type": "code",
   "execution_count": 228,
   "metadata": {},
   "outputs": [],
   "source": [
    "x = np.arange(1,5.6,0.2)\n",
    "y = np.ones(x.shape)*3\n",
    "noise = np.sin(x/2) +0.05*np.random.normal(size=x.shape)*2 -3\n",
    "x_final = 5 - x+0.03*np.random.normal(size=x.shape)*2\n",
    "y_final = 5 - y + noise"
   ]
  },
  {
   "cell_type": "code",
   "execution_count": 229,
   "metadata": {},
   "outputs": [
    {
     "data": {
      "text/plain": [
       "<matplotlib.collections.PathCollection at 0x7f65f4e380f0>"
      ]
     },
     "execution_count": 229,
     "metadata": {},
     "output_type": "execute_result"
    },
    {
     "data": {
      "image/png": "[encoded data removed]",
      "text/plain": [
       "<Figure size 432x288 with 1 Axes>"
      ]
     },
     "metadata": {
      "needs_background": "light"
     },
     "output_type": "display_data"
    }
   ],
   "source": [
    "plt.ylim((0,5))\n",
    "plt.xlim((0,5))\n",
    "plt.scatter(x_final+0.7,y_final + 2)"
   ]
  },
  {
   "cell_type": "code",
   "execution_count": 230,
   "metadata": {},
   "outputs": [
    {
     "data": {
      "text/plain": [
       "array([4.70987309, 4.53228911, 4.32350917, 4.1646866 , 3.95761183,\n",
       "       3.6826942 , 3.56052483, 3.25453225, 3.16535918, 2.89424199,\n",
       "       2.68039348, 2.48187619, 2.28954705, 2.16588673, 1.88906518,\n",
       "       1.74393349, 1.46576536, 1.31054198, 1.04294982, 0.86355978,\n",
       "       0.70419749, 0.47238218, 0.20393897])"
      ]
     },
     "execution_count": 230,
     "metadata": {},
     "output_type": "execute_result"
    }
   ],
   "source": [
    "x_final + 0.7"
   ]
  },
  {
   "cell_type": "code",
   "execution_count": 231,
   "metadata": {},
   "outputs": [
    {
     "data": {
      "text/plain": [
       "array([1.3133346 , 1.66359379, 1.64796597, 1.61452352, 1.80171256,\n",
       "       1.89805892, 1.9200242 , 1.97282412, 2.03263096, 1.88154585,\n",
       "       2.0473183 , 1.91615581, 1.97367712, 2.2131734 , 2.06092631,\n",
       "       1.88240954, 1.76614672, 1.88741053, 1.73555115, 1.60906185,\n",
       "       1.47844565, 1.55119813, 1.37106114])"
      ]
     },
     "execution_count": 231,
     "metadata": {},
     "output_type": "execute_result"
    }
   ],
   "source": [
    "y_final + 2"
   ]
  },
  {
   "cell_type": "code",
   "execution_count": 232,
   "metadata": {},
   "outputs": [],
   "source": [
    "y2 = np.arange(0.31,3.92,0.04)\n",
    "noise = 0.03*np.random.normal(size=y2.shape)"
   ]
  },
  {
   "cell_type": "code",
   "execution_count": 233,
   "metadata": {},
   "outputs": [],
   "source": [
    "y2_real = y2 + noise"
   ]
  },
  {
   "cell_type": "code",
   "execution_count": 236,
   "metadata": {},
   "outputs": [],
   "source": [
    "x2 = np.ones(y2.shape)*4 + 2*np.cos(y2/2 + 0.01*np.random.normal(size=y2.shape))"
   ]
  },
  {
   "cell_type": "code",
   "execution_count": 243,
   "metadata": {},
   "outputs": [
    {
     "data": {
      "text/plain": [
       "<matplotlib.collections.PathCollection at 0x7f65f522cac8>"
      ]
     },
     "execution_count": 243,
     "metadata": {},
     "output_type": "execute_result"
    },
    {
     "data": {
      "image/png": "[encoded data removed]",
      "text/plain": [
       "<Figure size 432x288 with 1 Axes>"
      ]
     },
     "metadata": {
      "needs_background": "light"
     },
     "output_type": "display_data"
    }
   ],
   "source": [
    "plt.ylim((0,5))\n",
    "plt.xlim((0,5))\n",
    "plt.scatter(x2 - 1.5, 0.2*(5 - y2_real) + 3)"
   ]
  },
  {
   "cell_type": "code",
   "execution_count": 241,
   "metadata": {},
   "outputs": [
    {
     "data": {
      "text/plain": [
       "array([4.47550101, 4.47094201, 4.46368728, 4.45259458, 4.44768953,\n",
       "       4.43053171, 4.42943518, 4.41532729, 4.40387873, 4.38887106,\n",
       "       4.36193947, 4.35154296, 4.34364946, 4.33466935, 4.29347734,\n",
       "       4.29765819, 4.28369358, 4.25449689, 4.24237369, 4.20624836,\n",
       "       4.18553276, 4.18335075, 4.15124652, 4.12712379, 4.13107692,\n",
       "       4.09077335, 4.07286442, 4.03940584, 4.01633549, 3.98240456,\n",
       "       3.9723553 , 3.94327072, 3.91268515, 3.87894188, 3.83897322,\n",
       "       3.80994979, 3.77857076, 3.76283782, 3.72885678, 3.69176605,\n",
       "       3.67293669, 3.61916081, 3.59922002, 3.54793843, 3.52438546,\n",
       "       3.47969492, 3.4682403 , 3.41554754, 3.39305318, 3.33080918,\n",
       "       3.33833199, 3.26276405, 3.25037534, 3.20769918, 3.13628974,\n",
       "       3.13057106, 3.07788683, 3.02916289, 3.03662657, 2.97934982,\n",
       "       2.93079222, 2.87242613, 2.85496509, 2.78508216, 2.78945439,\n",
       "       2.73886095, 2.69002976, 2.63162762, 2.62634391, 2.56001285,\n",
       "       2.53139123, 2.49018493, 2.44198011, 2.41345382, 2.37502124,\n",
       "       2.32305134, 2.30204938, 2.27658262, 2.19889387, 2.16741903,\n",
       "       2.15013416, 2.12560233, 2.05219622, 2.00269307, 1.98022121,\n",
       "       1.92934595, 1.88691841, 1.85746339, 1.8377137 , 1.77451409,\n",
       "       1.73504187])"
      ]
     },
     "execution_count": 241,
     "metadata": {},
     "output_type": "execute_result"
    }
   ],
   "source": [
    "x2 - 1.5"
   ]
  },
  {
   "cell_type": "code",
   "execution_count": 244,
   "metadata": {},
   "outputs": [
    {
     "data": {
      "text/plain": [
       "array([3.93560703, 3.92693626, 3.92423799, 3.9159065 , 3.90044777,\n",
       "       3.89941828, 3.89047708, 3.88303061, 3.86997589, 3.86950943,\n",
       "       3.86408387, 3.85731661, 3.85430568, 3.8353541 , 3.83073386,\n",
       "       3.82001262, 3.80878719, 3.80096719, 3.79481878, 3.78640131,\n",
       "       3.77937191, 3.76475201, 3.7556699 , 3.74905186, 3.73790829,\n",
       "       3.74360715, 3.72624032, 3.72557849, 3.72423887, 3.71302149,\n",
       "       3.68499552, 3.67773834, 3.67494705, 3.67168354, 3.66479607,\n",
       "       3.66345893, 3.64823276, 3.64419602, 3.63951425, 3.61813307,\n",
       "       3.62127702, 3.60923584, 3.59332081, 3.59111349, 3.57659739,\n",
       "       3.5707962 , 3.57512962, 3.56892143, 3.55479683, 3.54881316,\n",
       "       3.53619243, 3.52872953, 3.53203528, 3.51355361, 3.50212588,\n",
       "       3.50380193, 3.48932272, 3.46920916, 3.48044499, 3.47148808,\n",
       "       3.45419602, 3.44518453, 3.43160743, 3.42485382, 3.42108845,\n",
       "       3.42279913, 3.40581473, 3.41042425, 3.39091341, 3.38293703,\n",
       "       3.3718378 , 3.36745618, 3.36815747, 3.35129827, 3.34711157,\n",
       "       3.3321838 , 3.32905644, 3.3218817 , 3.31189237, 3.30987484,\n",
       "       3.29675767, 3.28263962, 3.27760703, 3.26588516, 3.27226629,\n",
       "       3.26309951, 3.24372814, 3.23988197, 3.22995226, 3.22661714,\n",
       "       3.22451606])"
      ]
     },
     "execution_count": 244,
     "metadata": {},
     "output_type": "execute_result"
    }
   ],
   "source": [
    "0.2*(5 - y2_real) + 3"
   ]
  },
  {
   "cell_type": "code",
   "execution_count": 120,
   "metadata": {},
   "outputs": [
    {
     "data": {
      "text/plain": [
       "array([1.15866195, 1.15866195, 1.15866195, 1.15866195, 1.15866195,\n",
       "       1.15866195, 1.15866195, 1.15866195, 1.15866195, 1.15866195,\n",
       "       1.15866195, 1.15866195, 1.15866195, 1.15866195, 1.15866195,\n",
       "       1.15866195, 1.15866195, 1.15866195, 1.15866195, 1.15866195,\n",
       "       1.15866195, 1.15866195, 1.15866195, 1.15866195, 1.15866195,\n",
       "       1.15866195, 1.15866195, 1.15866195, 1.15866195, 1.15866195,\n",
       "       1.15866195, 1.15866195, 1.15866195, 1.15866195, 1.15866195,\n",
       "       1.15866195, 1.15866195, 1.15866195, 1.15866195, 1.15866195,\n",
       "       1.15866195, 1.15866195, 1.15866195, 1.15866195, 1.15866195,\n",
       "       1.15866195, 1.15866195, 1.15866195, 1.15866195, 1.15866195])"
      ]
     },
     "execution_count": 120,
     "metadata": {},
     "output_type": "execute_result"
    }
   ],
   "source": [
    "np.ones(50)*1.15866195"
   ]
  },
  {
   "cell_type": "code",
   "execution_count": 117,
   "metadata": {},
   "outputs": [
    {
     "data": {
      "text/plain": [
       "array([1.15866195, 1.18265443, 1.20033442, 1.21617816, 1.24960415,\n",
       "       1.23976722, 1.2598274 , 1.295428  , 1.31755425, 1.32377467,\n",
       "       1.34628507, 1.33763664, 1.38219055, 1.42258197, 1.4168245 ,\n",
       "       1.4373173 , 1.46350848, 1.47734882, 1.49318077, 1.52534567,\n",
       "       1.52537139, 1.55003483, 1.55528921, 1.5642819 , 1.59652262,\n",
       "       1.6024033 , 1.62964553, 1.63877336, 1.66422259, 1.66061025,\n",
       "       1.68409103, 1.69621562, 1.70873161, 1.72896636, 1.73739985,\n",
       "       1.7571388 , 1.76014911, 1.78850352, 1.77357293, 1.8026357 ,\n",
       "       1.82276068, 1.82664117, 1.83278866, 1.84112758, 1.85591851,\n",
       "       1.87608534, 1.87542721, 1.88416981, 1.90386753, 1.90140202,\n",
       "       1.91230384, 1.92772648, 1.92898627, 1.93461081, 1.94589498,\n",
       "       1.95458385, 1.96008835, 1.95883769, 1.96289118, 1.9726923 ,\n",
       "       1.97669687, 1.98103305, 1.98792156, 1.98559582, 1.98985054,\n",
       "       1.99291862, 1.9946779 , 1.99625296, 1.99742992, 1.9987319 ,\n",
       "       1.99988175, 1.99999817, 1.99966577, 1.99882774, 1.99861929,\n",
       "       1.9978831 , 1.99490919, 1.99268811, 1.98981054, 1.98483304,\n",
       "       1.98071971, 1.97401882, 1.96786642, 1.97287364, 1.96936318,\n",
       "       1.95480557, 1.95155242, 1.94602584, 1.94077509, 1.93713634,\n",
       "       1.92327707])"
      ]
     },
     "execution_count": 117,
     "metadata": {},
     "output_type": "execute_result"
    }
   ],
   "source": [
    "(x2 -3)"
   ]
  },
  {
   "cell_type": "code",
   "execution_count": 121,
   "metadata": {},
   "outputs": [
    {
     "data": {
      "text/plain": [
       "array([0.31, 0.31, 0.31, 0.31, 0.31, 0.31, 0.31, 0.31, 0.31, 0.31, 0.31,\n",
       "       0.31, 0.31, 0.31, 0.31, 0.31, 0.31, 0.31, 0.31, 0.31, 0.31, 0.31,\n",
       "       0.31, 0.31, 0.31, 0.31, 0.31, 0.31, 0.31, 0.31, 0.31, 0.31, 0.31,\n",
       "       0.31, 0.31, 0.31, 0.31, 0.31, 0.31, 0.31, 0.31, 0.31, 0.31, 0.31,\n",
       "       0.31, 0.31, 0.31, 0.31, 0.31, 0.31])"
      ]
     },
     "execution_count": 121,
     "metadata": {},
     "output_type": "execute_result"
    }
   ],
   "source": [
    "np.ones(50)*0.31"
   ]
  },
  {
   "cell_type": "code",
   "execution_count": 118,
   "metadata": {},
   "outputs": [
    {
     "data": {
      "text/plain": [
       "array([0.31, 0.35, 0.39, 0.43, 0.47, 0.51, 0.55, 0.59, 0.63, 0.67, 0.71,\n",
       "       0.75, 0.79, 0.83, 0.87, 0.91, 0.95, 0.99, 1.03, 1.07, 1.11, 1.15,\n",
       "       1.19, 1.23, 1.27, 1.31, 1.35, 1.39, 1.43, 1.47, 1.51, 1.55, 1.59,\n",
       "       1.63, 1.67, 1.71, 1.75, 1.79, 1.83, 1.87, 1.91, 1.95, 1.99, 2.03,\n",
       "       2.07, 2.11, 2.15, 2.19, 2.23, 2.27, 2.31, 2.35, 2.39, 2.43, 2.47,\n",
       "       2.51, 2.55, 2.59, 2.63, 2.67, 2.71, 2.75, 2.79, 2.83, 2.87, 2.91,\n",
       "       2.95, 2.99, 3.03, 3.07, 3.11, 3.15, 3.19, 3.23, 3.27, 3.31, 3.35,\n",
       "       3.39, 3.43, 3.47, 3.51, 3.55, 3.59, 3.63, 3.67, 3.71, 3.75, 3.79,\n",
       "       3.83, 3.87, 3.91])"
      ]
     },
     "execution_count": 118,
     "metadata": {},
     "output_type": "execute_result"
    }
   ],
   "source": [
    "y2"
   ]
  },
  {
   "cell_type": "code",
   "execution_count": null,
   "metadata": {},
   "outputs": [],
   "source": []
  }
 ],
 "metadata": {
  "kernelspec": {
   "display_name": "Python 3",
   "language": "python",
   "name": "python3"
  },
  "language_info": {
   "codemirror_mode": {
    "name": "ipython",
    "version": 3
   },
   "file_extension": ".py",
   "mimetype": "text/x-python",
   "name": "python",
   "nbconvert_exporter": "python",
   "pygments_lexer": "ipython3",
   "version": "3.6.10"
  }
 },
 "nbformat": 4,
 "nbformat_minor": 4
}
